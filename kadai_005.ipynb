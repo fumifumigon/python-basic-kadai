{
  "nbformat": 4,
  "nbformat_minor": 0,
  "metadata": {
    "colab": {
      "provenance": [],
      "authorship_tag": "ABX9TyOCCwY8jxPAKcYxMZgUtSFo"
    },
    "kernelspec": {
      "name": "python3",
      "display_name": "Python 3"
    },
    "language_info": {
      "name": "python"
    }
  },
  "cells": [
    {
      "cell_type": "code",
      "execution_count": 2,
      "metadata": {
        "colab": {
          "base_uri": "https://localhost:8080/"
        },
        "id": "qZ9Y6wWoSIWt",
        "outputId": "fc7265f6-a9cc-4114-f187-627d23b02094"
      },
      "outputs": [
        {
          "output_type": "stream",
          "name": "stdout",
          "text": [
            "75.0cm2\n"
          ]
        }
      ],
      "source": [
        "#上辺=a，下辺=b，高さ=h，台形の面積=Sとおく\n",
        "a = 10\n",
        "b = 20\n",
        "h = 5\n",
        "S = (10 + 20) * h / 2\n",
        "\n",
        "print(str(S) + \"cm2\" )"
      ]
    }
  ]
}