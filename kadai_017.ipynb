{
  "nbformat": 4,
  "nbformat_minor": 0,
  "metadata": {
    "colab": {
      "provenance": [],
      "authorship_tag": "ABX9TyPSnQf0WUJutGLnlsgC2x1j",
      "include_colab_link": true
    },
    "kernelspec": {
      "name": "python3",
      "display_name": "Python 3"
    },
    "language_info": {
      "name": "python"
    }
  },
  "cells": [
    {
      "cell_type": "markdown",
      "metadata": {
        "id": "view-in-github",
        "colab_type": "text"
      },
      "source": [
        "<a href=\"https://colab.research.google.com/github/fumifumigon/python-basic-kadai/blob/main/kadai_017.ipynb\" target=\"_parent\"><img src=\"https://colab.research.google.com/assets/colab-badge.svg\" alt=\"Open In Colab\"/></a>"
      ]
    },
    {
      "cell_type": "code",
      "execution_count": 14,
      "metadata": {
        "colab": {
          "base_uri": "https://localhost:8080/"
        },
        "id": "clSsHL6EeYRS",
        "outputId": "9d18b887-9b9f-4857-abae-1771202957c4"
      },
      "outputs": [
        {
          "output_type": "stream",
          "name": "stdout",
          "text": [
            "Aさんは，大人である．\n",
            "Bさんは，大人でない．\n",
            "Cさんは，大人である．\n",
            "Dさんは，大人でない．\n"
          ]
        }
      ],
      "source": [
        "class Human:\n",
        "\n",
        "# 初期化\n",
        "  def __init__(self, name, age):\n",
        "    self.name = name\n",
        "    self.age = age\n",
        "\n",
        " # メソッドを定義\n",
        "  def check_adult(self):\n",
        "\n",
        "    if self.age >= 20:\n",
        "      print(f\"{self.name}は，大人である．\")\n",
        "    else:\n",
        "      print(f\"{self.name}は，大人でない．\")\n",
        "\n",
        "# リストの数だけインスタンスを生成\n",
        "human_names = [\"Aさん\", \"Bさん\", \"Cさん\", \"Dさん\"]\n",
        "human_ages = [21, 18, 20, 5]\n",
        "a = 0\n",
        "\n",
        "while a <= 3:\n",
        "  human = Human(human_names[a], human_ages[a])\n",
        "  human.check_adult()\n",
        "  a = a + 1\n",
        "\n",
        "\n",
        "\n"
      ]
    },
    {
      "cell_type": "code",
      "source": [],
      "metadata": {
        "id": "TXmgHn7ygnGD"
      },
      "execution_count": null,
      "outputs": []
    }
  ]
}